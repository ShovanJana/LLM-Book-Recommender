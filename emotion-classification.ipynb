{
 "cells": [
  {
   "cell_type": "code",
   "execution_count": 13,
   "id": "894063a3",
   "metadata": {},
   "outputs": [],
   "source": [
    "import numpy as np\n",
    "import pandas as pd\n",
    "from tqdm import tqdm\n",
    "from transformers import pipeline"
   ]
  },
  {
   "cell_type": "code",
   "execution_count": 15,
   "id": "682fbbd0",
   "metadata": {},
   "outputs": [],
   "source": [
    "books = pd.read_csv('books_simple_categorised.csv')"
   ]
  },
  {
   "cell_type": "code",
   "execution_count": 16,
   "id": "aba38751",
   "metadata": {},
   "outputs": [
    {
     "name": "stderr",
     "output_type": "stream",
     "text": [
      "Device set to use cpu\n"
     ]
    },
    {
     "data": {
      "text/plain": [
       "[[{'label': 'joy', 'score': 0.9771687984466553},\n",
       "  {'label': 'surprise', 'score': 0.008528684265911579},\n",
       "  {'label': 'neutral', 'score': 0.005764583125710487},\n",
       "  {'label': 'anger', 'score': 0.004419783595949411},\n",
       "  {'label': 'sadness', 'score': 0.002092392183840275},\n",
       "  {'label': 'disgust', 'score': 0.0016119909705594182},\n",
       "  {'label': 'fear', 'score': 0.00041385277290828526}]]"
      ]
     },
     "execution_count": 16,
     "metadata": {},
     "output_type": "execute_result"
    }
   ],
   "source": [
    "\n",
    "classifier = pipeline(\"text-classification\",\n",
    "                       model=\"j-hartmann/emotion-english-distilroberta-base\", \n",
    "                       top_k=None)\n",
    "classifier(\"I love this!\")\n"
   ]
  },
  {
   "cell_type": "code",
   "execution_count": 17,
   "id": "883bb20f",
   "metadata": {},
   "outputs": [
    {
     "data": {
      "text/plain": [
       "[[{'label': 'surprise', 'score': 0.7296020984649658},\n",
       "  {'label': 'neutral', 'score': 0.14038600027561188},\n",
       "  {'label': 'fear', 'score': 0.06816228479146957},\n",
       "  {'label': 'joy', 'score': 0.04794260859489441},\n",
       "  {'label': 'anger', 'score': 0.009156366810202599},\n",
       "  {'label': 'disgust', 'score': 0.0026284765917807817},\n",
       "  {'label': 'sadness', 'score': 0.002122163539752364}],\n",
       " [{'label': 'neutral', 'score': 0.44937002658843994},\n",
       "  {'label': 'disgust', 'score': 0.27359163761138916},\n",
       "  {'label': 'joy', 'score': 0.10908330976963043},\n",
       "  {'label': 'sadness', 'score': 0.09362746775150299},\n",
       "  {'label': 'anger', 'score': 0.04047830402851105},\n",
       "  {'label': 'surprise', 'score': 0.026970159262418747},\n",
       "  {'label': 'fear', 'score': 0.006879047024995089}],\n",
       " [{'label': 'neutral', 'score': 0.6462159752845764},\n",
       "  {'label': 'sadness', 'score': 0.24273329973220825},\n",
       "  {'label': 'disgust', 'score': 0.04342271760106087},\n",
       "  {'label': 'surprise', 'score': 0.028300564736127853},\n",
       "  {'label': 'joy', 'score': 0.014211472123861313},\n",
       "  {'label': 'fear', 'score': 0.0140841044485569},\n",
       "  {'label': 'anger', 'score': 0.011031901463866234}],\n",
       " [{'label': 'fear', 'score': 0.9281681180000305},\n",
       "  {'label': 'anger', 'score': 0.032191041857004166},\n",
       "  {'label': 'neutral', 'score': 0.01280867587774992},\n",
       "  {'label': 'sadness', 'score': 0.008756861090660095},\n",
       "  {'label': 'surprise', 'score': 0.008597906678915024},\n",
       "  {'label': 'disgust', 'score': 0.008431818336248398},\n",
       "  {'label': 'joy', 'score': 0.0010455837473273277}],\n",
       " [{'label': 'sadness', 'score': 0.9671575427055359},\n",
       "  {'label': 'neutral', 'score': 0.015104127116501331},\n",
       "  {'label': 'disgust', 'score': 0.006480589509010315},\n",
       "  {'label': 'fear', 'score': 0.005393980070948601},\n",
       "  {'label': 'surprise', 'score': 0.002286937553435564},\n",
       "  {'label': 'anger', 'score': 0.0018428878393024206},\n",
       "  {'label': 'joy', 'score': 0.0017338756006211042}],\n",
       " [{'label': 'joy', 'score': 0.932798445224762},\n",
       "  {'label': 'disgust', 'score': 0.0377168171107769},\n",
       "  {'label': 'neutral', 'score': 0.015891803428530693},\n",
       "  {'label': 'sadness', 'score': 0.006444480270147324},\n",
       "  {'label': 'anger', 'score': 0.005024945829063654},\n",
       "  {'label': 'surprise', 'score': 0.0015812049387022853},\n",
       "  {'label': 'fear', 'score': 0.0005423048860393465}],\n",
       " [{'label': 'joy', 'score': 0.6528708338737488},\n",
       "  {'label': 'neutral', 'score': 0.25427478551864624},\n",
       "  {'label': 'surprise', 'score': 0.06808284670114517},\n",
       "  {'label': 'sadness', 'score': 0.009908987209200859},\n",
       "  {'label': 'disgust', 'score': 0.0065122200176119804},\n",
       "  {'label': 'anger', 'score': 0.004821304697543383},\n",
       "  {'label': 'fear', 'score': 0.0035290175583213568}],\n",
       " [{'label': 'neutral', 'score': 0.5494767427444458},\n",
       "  {'label': 'sadness', 'score': 0.11169017851352692},\n",
       "  {'label': 'disgust', 'score': 0.10400667786598206},\n",
       "  {'label': 'surprise', 'score': 0.07876550406217575},\n",
       "  {'label': 'anger', 'score': 0.0641336441040039},\n",
       "  {'label': 'fear', 'score': 0.05136283114552498},\n",
       "  {'label': 'joy', 'score': 0.04056443274021149}]]"
      ]
     },
     "execution_count": 17,
     "metadata": {},
     "output_type": "execute_result"
    }
   ],
   "source": [
    "classifier(books['description'][0].split('.'))"
   ]
  },
  {
   "cell_type": "code",
   "execution_count": 18,
   "id": "bf146797",
   "metadata": {},
   "outputs": [],
   "source": [
    "emotion_labels = [ 'anger', 'disgust', 'fear', 'joy','sadness', 'surprise', 'neutral']\n",
    "isbn= []\n",
    "emotion_scores = {label: [] for label in emotion_labels}\n",
    "\n",
    "def claculate_max_emotion_scores(predictions):\n",
    "    per_emotion_scores = {label: [] for label in emotion_labels}\n",
    "    for prediction in predictions:\n",
    "        sorted_predictions= sorted(prediction, key=lambda x: x['label'])\n",
    "        for index, label in enumerate(emotion_labels):\n",
    "            per_emotion_scores[label].append(sorted_predictions[index]['score'])\n",
    "\n",
    "    return {label: np.max(scores) for label, scores in per_emotion_scores.items()}\n",
    "\n"
   ]
  },
  {
   "cell_type": "code",
   "execution_count": 19,
   "id": "f6d5c8fc",
   "metadata": {},
   "outputs": [],
   "source": [
    "for i in range(10):\n",
    "    isbn.append(books['isbn13'][i])\n",
    "    sentences = books['description'][i].split('.')\n",
    "    predictions = classifier(sentences)\n",
    "    max_scores= claculate_max_emotion_scores(predictions)\n",
    "    for label in emotion_labels:\n",
    "        emotion_scores[label].append(max_scores[label])\n"
   ]
  },
  {
   "cell_type": "code",
   "execution_count": 20,
   "id": "37e851f5",
   "metadata": {},
   "outputs": [
    {
     "data": {
      "text/plain": [
       "{'anger': [np.float64(0.0641336441040039),\n",
       "  np.float64(0.6126197576522827),\n",
       "  np.float64(0.0641336441040039),\n",
       "  np.float64(0.35148438811302185),\n",
       "  np.float64(0.08141235262155533),\n",
       "  np.float64(0.2322252243757248),\n",
       "  np.float64(0.5381842255592346),\n",
       "  np.float64(0.0641336441040039),\n",
       "  np.float64(0.3006700277328491),\n",
       "  np.float64(0.0641336441040039)],\n",
       " 'disgust': [np.float64(0.27359163761138916),\n",
       "  np.float64(0.3482847511768341),\n",
       "  np.float64(0.10400667786598206),\n",
       "  np.float64(0.1507224589586258),\n",
       "  np.float64(0.18449543416500092),\n",
       "  np.float64(0.7271744608879089),\n",
       "  np.float64(0.155854731798172),\n",
       "  np.float64(0.10400667786598206),\n",
       "  np.float64(0.2794816195964813),\n",
       "  np.float64(0.17792661488056183)],\n",
       " 'fear': [np.float64(0.9281681180000305),\n",
       "  np.float64(0.9425276517868042),\n",
       "  np.float64(0.9723208546638489),\n",
       "  np.float64(0.3607059419155121),\n",
       "  np.float64(0.09504333138465881),\n",
       "  np.float64(0.05136283114552498),\n",
       "  np.float64(0.7474274635314941),\n",
       "  np.float64(0.4044976532459259),\n",
       "  np.float64(0.9155241250991821),\n",
       "  np.float64(0.05136283114552498)],\n",
       " 'joy': [np.float64(0.932798445224762),\n",
       "  np.float64(0.7044219970703125),\n",
       "  np.float64(0.7672380805015564),\n",
       "  np.float64(0.2518811821937561),\n",
       "  np.float64(0.04056443274021149),\n",
       "  np.float64(0.043375786393880844),\n",
       "  np.float64(0.872565746307373),\n",
       "  np.float64(0.04056443274021149),\n",
       "  np.float64(0.04056443274021149),\n",
       "  np.float64(0.04056443274021149)],\n",
       " 'sadness': [np.float64(0.6462159752845764),\n",
       "  np.float64(0.8879395127296448),\n",
       "  np.float64(0.5494767427444458),\n",
       "  np.float64(0.7326844930648804),\n",
       "  np.float64(0.8843896985054016),\n",
       "  np.float64(0.621392011642456),\n",
       "  np.float64(0.7121941447257996),\n",
       "  np.float64(0.5494767427444458),\n",
       "  np.float64(0.840289294719696),\n",
       "  np.float64(0.8603722453117371)],\n",
       " 'surprise': [np.float64(0.9671575427055359),\n",
       "  np.float64(0.11169017851352692),\n",
       "  np.float64(0.11169017851352692),\n",
       "  np.float64(0.11169017851352692),\n",
       "  np.float64(0.47588053345680237),\n",
       "  np.float64(0.11169017851352692),\n",
       "  np.float64(0.40800127387046814),\n",
       "  np.float64(0.8202826380729675),\n",
       "  np.float64(0.35446077585220337),\n",
       "  np.float64(0.11169017851352692)],\n",
       " 'neutral': [np.float64(0.7296020984649658),\n",
       "  np.float64(0.252546101808548),\n",
       "  np.float64(0.07876550406217575),\n",
       "  np.float64(0.07876550406217575),\n",
       "  np.float64(0.07876550406217575),\n",
       "  np.float64(0.27190330624580383),\n",
       "  np.float64(0.07876550406217575),\n",
       "  np.float64(0.2344866842031479),\n",
       "  np.float64(0.13561423122882843),\n",
       "  np.float64(0.07876550406217575)]}"
      ]
     },
     "execution_count": 20,
     "metadata": {},
     "output_type": "execute_result"
    }
   ],
   "source": [
    "emotion_scores"
   ]
  },
  {
   "cell_type": "code",
   "execution_count": 21,
   "id": "fe486a8e",
   "metadata": {},
   "outputs": [
    {
     "name": "stderr",
     "output_type": "stream",
     "text": [
      "100%|██████████| 5197/5197 [14:31<00:00,  5.96it/s]\n"
     ]
    }
   ],
   "source": [
    "emotion_labels = [ 'anger', 'disgust', 'fear', 'joy','sadness', 'surprise', 'neutral']\n",
    "isbn= []\n",
    "emotion_scores = {label: [] for label in emotion_labels}\n",
    "\n",
    "for i in tqdm(range(len(books))):\n",
    "    isbn.append(books['isbn13'][i])\n",
    "    sentences = books['description'][i].split('.')\n",
    "    predictions = classifier(sentences)\n",
    "    max_scores= claculate_max_emotion_scores(predictions)\n",
    "    for label in emotion_labels:\n",
    "        emotion_scores[label].append(max_scores[label])\n"
   ]
  },
  {
   "cell_type": "code",
   "execution_count": 22,
   "id": "e7872412",
   "metadata": {},
   "outputs": [],
   "source": [
    "emotions_df= pd.DataFrame(emotion_scores)\n",
    "emotions_df['isbn13'] = isbn"
   ]
  },
  {
   "cell_type": "code",
   "execution_count": 23,
   "id": "e38a0825",
   "metadata": {},
   "outputs": [],
   "source": [
    "books= pd.merge(books, emotions_df, on='isbn13')"
   ]
  },
  {
   "cell_type": "code",
   "execution_count": 24,
   "id": "7d4f758a",
   "metadata": {},
   "outputs": [],
   "source": [
    "books.to_csv('books_with_emotions.csv', index=False)"
   ]
  },
  {
   "cell_type": "code",
   "execution_count": 27,
   "id": "ad4954f1",
   "metadata": {},
   "outputs": [
    {
     "data": {
      "application/vnd.microsoft.datawrangler.viewer.v0+json": {
       "columns": [
        {
         "name": "index",
         "rawType": "int64",
         "type": "integer"
        },
        {
         "name": "simple categories",
         "rawType": "object",
         "type": "string"
        }
       ],
       "ref": "2a5aec3c-7eee-4a6c-ac3a-e2cc93e5272d",
       "rows": [
        [
         "0",
         "Fiction"
        ],
        [
         "1",
         "Fiction"
        ],
        [
         "2",
         "Fiction"
        ],
        [
         "3",
         "Nonfiction"
        ],
        [
         "4",
         "Nonfiction"
        ],
        [
         "5",
         "Nonfiction"
        ],
        [
         "6",
         "Fiction"
        ],
        [
         "7",
         "Nonfiction"
        ],
        [
         "8",
         "Fiction"
        ],
        [
         "9",
         "Fiction"
        ],
        [
         "10",
         "Fiction"
        ],
        [
         "11",
         "Fiction"
        ],
        [
         "12",
         "Fiction"
        ],
        [
         "13",
         "Fiction"
        ],
        [
         "14",
         "Fiction"
        ],
        [
         "15",
         "Nonfiction"
        ],
        [
         "16",
         "Nonfiction"
        ],
        [
         "17",
         "Fiction"
        ],
        [
         "18",
         "Fiction"
        ],
        [
         "19",
         "Fiction"
        ],
        [
         "20",
         "Fiction"
        ],
        [
         "21",
         "Fiction"
        ],
        [
         "22",
         "Nonfiction"
        ],
        [
         "23",
         "Nonfiction"
        ],
        [
         "24",
         "Nonfiction"
        ],
        [
         "25",
         "Fiction"
        ],
        [
         "26",
         "Nonfiction"
        ],
        [
         "27",
         "Nonfiction"
        ],
        [
         "28",
         "Nonfiction"
        ],
        [
         "29",
         "Nonfiction"
        ],
        [
         "30",
         "Children's Fiction"
        ],
        [
         "31",
         "Nonfiction"
        ],
        [
         "32",
         "Fiction"
        ],
        [
         "33",
         "Nonfiction"
        ],
        [
         "34",
         "Fiction"
        ],
        [
         "35",
         "Nonfiction"
        ],
        [
         "36",
         "Nonfiction"
        ],
        [
         "37",
         "Nonfiction"
        ],
        [
         "38",
         "Fiction"
        ],
        [
         "39",
         "Fiction"
        ],
        [
         "40",
         "Nonfiction"
        ],
        [
         "41",
         "Nonfiction"
        ],
        [
         "42",
         "Nonfiction"
        ],
        [
         "43",
         "Nonfiction"
        ],
        [
         "44",
         "Nonfiction"
        ],
        [
         "45",
         "Nonfiction"
        ],
        [
         "46",
         "Fiction"
        ],
        [
         "47",
         "Nonfiction"
        ],
        [
         "48",
         "Nonfiction"
        ],
        [
         "49",
         "Fiction"
        ]
       ],
       "shape": {
        "columns": 1,
        "rows": 5197
       }
      },
      "text/plain": [
       "0          Fiction\n",
       "1          Fiction\n",
       "2          Fiction\n",
       "3       Nonfiction\n",
       "4       Nonfiction\n",
       "           ...    \n",
       "5192       Fiction\n",
       "5193    Nonfiction\n",
       "5194       Fiction\n",
       "5195    Nonfiction\n",
       "5196    Nonfiction\n",
       "Name: simple categories, Length: 5197, dtype: object"
      ]
     },
     "execution_count": 27,
     "metadata": {},
     "output_type": "execute_result"
    }
   ],
   "source": [
    "books= pd.read_csv('books_with_emotions.csv')\n",
    "books['simple categories']"
   ]
  },
  {
   "cell_type": "code",
   "execution_count": 29,
   "id": "8c0d1935",
   "metadata": {},
   "outputs": [
    {
     "data": {
      "text/plain": [
       "[\"Children's Fiction\", \"Children's Nonfiction\", 'Fiction', 'Nonfiction']"
      ]
     },
     "execution_count": 29,
     "metadata": {},
     "output_type": "execute_result"
    }
   ],
   "source": [
    "sorted(books['simple categories'].unique())"
   ]
  },
  {
   "cell_type": "code",
   "execution_count": null,
   "id": "767ebf18",
   "metadata": {},
   "outputs": [],
   "source": []
  }
 ],
 "metadata": {
  "kernelspec": {
   "display_name": ".venv",
   "language": "python",
   "name": "python3"
  },
  "language_info": {
   "codemirror_mode": {
    "name": "ipython",
    "version": 3
   },
   "file_extension": ".py",
   "mimetype": "text/x-python",
   "name": "python",
   "nbconvert_exporter": "python",
   "pygments_lexer": "ipython3",
   "version": "3.11.4"
  }
 },
 "nbformat": 4,
 "nbformat_minor": 5
}
